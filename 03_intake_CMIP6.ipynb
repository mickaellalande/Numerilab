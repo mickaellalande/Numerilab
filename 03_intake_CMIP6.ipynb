{
 "cells": [
  {
   "cell_type": "markdown",
   "metadata": {},
   "source": [
    "# ERA5 comparison with CMIP6 models\n",
    "\n",
    "In this tutorial we will compare the ERA5 reanalysis to CMIP6 model outputs. To do so, you will choose a model from your country for example.\n",
    "\n",
    "Getting CMIP6 data can be a bit painful via the official [ESGF portal](https://esgf-node.llnl.gov/search/cmip6/). The easiest way is usually to use the data directly from a computing center. In this tutorial, we will use the [instake-esm](https://intake-esm.readthedocs.io/en/stable/) package that allow to directly load CMIP6 data with Python: https://intake-esm.readthedocs.io/en/stable/user-guide/cmip6-tutorial.html\n",
    "\n",
    "This is made possible thanks to partnership with Google Cloud: [New climate model data now in Google Public Datasets](https://cloud.google.com/blog/products/data-analytics/new-climate-model-data-now-google-public-datasets). This is rather designed to work on [Pangeo-Cloud](https://pangeo.io/cloud.html) where the servers are directly connected to the data. However we can access it from anywhere with less performance. Note that intake can also be installed in your data center if data are already there."
   ]
  },
  {
   "cell_type": "markdown",
   "metadata": {},
   "source": [
    "## Import packages"
   ]
  },
  {
   "cell_type": "code",
   "execution_count": null,
   "metadata": {},
   "outputs": [],
   "source": [
    "# To reload external files automatically (ex: utils)\n",
    "%load_ext autoreload\n",
    "%autoreload 2\n",
    "\n",
    "import xarray as xr\n",
    "import dask\n",
    "import intake\n",
    "import pprint\n",
    "import pandas as pd\n",
    "import numpy as np\n",
    "import calendar as cld\n",
    "import matplotlib.pyplot as plt\n",
    "import proplot as plot # New plot library (https://proplot.readthedocs.io/en/latest/)\n",
    "plot.rc['savefig.dpi'] = 300 # 1200 is too big! #https://proplot.readthedocs.io/en/latest/basics.html#Creating-figures\n",
    "from scipy import stats\n",
    "import xesmf as xe # For regridding (https://xesmf.readthedocs.io/en/latest/)\n",
    "\n",
    "# Import some extra functions from utils folder\n",
    "import sys\n",
    "sys.path.insert(1, 'utils') # to include the util directory\n",
    "import utils as u # my personal functions\n",
    "u.check_python_version()\n",
    "u.check_virtual_memory()"
   ]
  },
  {
   "cell_type": "markdown",
   "metadata": {},
   "source": [
    "## Loading a catalog"
   ]
  },
  {
   "cell_type": "code",
   "execution_count": null,
   "metadata": {},
   "outputs": [],
   "source": [
    "url = \"https://storage.googleapis.com/cmip6/pangeo-cmip6.json\"\n",
    "col = intake.open_esm_datastore(url)\n",
    "col"
   ]
  },
  {
   "cell_type": "markdown",
   "metadata": {},
   "source": [
    "## Catalog Contents"
   ]
  },
  {
   "cell_type": "code",
   "execution_count": null,
   "metadata": {},
   "outputs": [],
   "source": [
    "col.df.head()"
   ]
  },
  {
   "cell_type": "markdown",
   "metadata": {},
   "source": [
    "## Finding unique entries"
   ]
  },
  {
   "cell_type": "code",
   "execution_count": null,
   "metadata": {},
   "outputs": [],
   "source": [
    "uni_dict = col.unique([\"source_id\", \"experiment_id\", \"table_id\"])\n",
    "pprint.pprint(uni_dict, compact=True)"
   ]
  },
  {
   "cell_type": "markdown",
   "metadata": {},
   "source": [
    "## Searching for specific datasets\n",
    "\n",
    "In the example below, we are are going to search for the following:\n",
    "- variables: `tas` which stands for near-surface (usually, 2 meter) air temperature ([IPCC Standard Output from Coupled Ocean-Atmosphere GCMs](https://pcmdi.llnl.gov/mips/cmip3/variableList.html))\n",
    "\n",
    "- experiments: `['historical', 'sspxxx']`:\n",
    "    - `historical`: all forcing of the recent past.\n",
    "    - `sspxxx`: emission-driven Shared Socioeconomic Pathways ([O'Neill et al, 2016](https://doi.org/10.5194/gmd-9-3461-2016)).\n",
    "\n",
    "\n",
    "- table_id: `Amon` which stands for monthly mean variables on the atmosphere grid.\n",
    "\n",
    "- source_id: `IPSL-CM6A-LR` which stands for a model (choose one from your country for example).\n",
    "    - search your country from here: [CMIP6_institution_id](https://wcrp-cmip.github.io/CMIP6_CVs/docs/CMIP6_institution_id.html)\n",
    "    - find one model: [CMIP6_source_id](https://wcrp-cmip.github.io/CMIP6_CVs/docs/CMIP6_source_id.html) (check that `ScenarioMIP` is available)\n",
    "    \n",
    "\n",
    "- member_id: `r1i1p1f1` to get the first member.\n",
    "\n",
    "For more details on the CMIP6 vocabulary, please check this [website](http://clipc-services.ceda.ac.uk/dreq/index.html), and [Core Controlled Vocabularies (CVs) for use in CMIP6](https://github.com/WCRP-CMIP/CMIP6_CVs) GitHub repository."
   ]
  },
  {
   "cell_type": "code",
   "execution_count": null,
   "metadata": {},
   "outputs": [],
   "source": [
    "model_name = ### choose one model from your country\n",
    "\n",
    "cat = col.search(\n",
    "    experiment_id=[\"historical\", \"ssp119\", \"ssp126\", \"ssp245\", \"ssp370\", \"ssp585\"],\n",
    "    table_id=\"Amon\",\n",
    "    variable_id=\"tas\",\n",
    "    source_id=model_name,\n",
    "    member_id=\"r1i1p1f1\"\n",
    ")\n",
    "\n",
    "cat"
   ]
  },
  {
   "cell_type": "code",
   "execution_count": null,
   "metadata": {
    "jupyter": {
     "source_hidden": true
    }
   },
   "outputs": [],
   "source": [
    "model_name = 'IPSL-CM6A-LR'\n",
    "\n",
    "cat = col.search(\n",
    "    experiment_id=[\"historical\", \"ssp119\", \"ssp126\", \"ssp245\", \"ssp370\", \"ssp585\"],\n",
    "    table_id=\"Amon\",\n",
    "    variable_id=\"tas\",\n",
    "    source_id=model_name,\n",
    "    member_id=\"r1i1p1f1\"\n",
    ")\n",
    "\n",
    "cat"
   ]
  },
  {
   "cell_type": "code",
   "execution_count": null,
   "metadata": {},
   "outputs": [],
   "source": [
    "cat.df.head()"
   ]
  },
  {
   "cell_type": "markdown",
   "metadata": {},
   "source": [
    "## Loading datasets"
   ]
  },
  {
   "cell_type": "code",
   "execution_count": null,
   "metadata": {},
   "outputs": [],
   "source": [
    "dset_dict = cat.to_dataset_dict(\n",
    "    zarr_kwargs={\"consolidated\": True, \"decode_times\": True, \"use_cftime\": True}\n",
    ")"
   ]
  },
  {
   "cell_type": "code",
   "execution_count": null,
   "metadata": {},
   "outputs": [],
   "source": [
    "[key for key in dset_dict.keys()]"
   ]
  },
  {
   "cell_type": "code",
   "execution_count": null,
   "metadata": {},
   "outputs": [],
   "source": [
    "ds = dset_dict[###] # Take the historical key of the model you have chosen\n",
    "ds"
   ]
  },
  {
   "cell_type": "code",
   "execution_count": null,
   "metadata": {
    "jupyter": {
     "source_hidden": true
    }
   },
   "outputs": [],
   "source": [
    "ds = dset_dict[\"CMIP.IPSL.IPSL-CM6A-LR.historical.Amon.gr\"]\n",
    "ds"
   ]
  },
  {
   "cell_type": "markdown",
   "metadata": {},
   "source": [
    "## Visualize data"
   ]
  },
  {
   "cell_type": "code",
   "execution_count": null,
   "metadata": {},
   "outputs": [],
   "source": [
    "model = ds.tas.isel(member_id=0) - 273.15\n",
    "model"
   ]
  },
  {
   "cell_type": "markdown",
   "metadata": {},
   "source": [
    "### Exercise: Compute climatology and plot it"
   ]
  },
  {
   "cell_type": "code",
   "execution_count": null,
   "metadata": {},
   "outputs": [],
   "source": [
    "clim_model = ###"
   ]
  },
  {
   "cell_type": "code",
   "execution_count": null,
   "metadata": {},
   "outputs": [],
   "source": []
  },
  {
   "cell_type": "markdown",
   "metadata": {},
   "source": [
    "### Solution"
   ]
  },
  {
   "cell_type": "code",
   "execution_count": null,
   "metadata": {
    "jupyter": {
     "source_hidden": true
    }
   },
   "outputs": [],
   "source": [
    "clim_model = model.mean('time').load()"
   ]
  },
  {
   "cell_type": "code",
   "execution_count": null,
   "metadata": {
    "jupyter": {
     "source_hidden": true
    }
   },
   "outputs": [],
   "source": [
    "cmap='RdBu_r'\n",
    "levels=plot.arange(-30,30,5)\n",
    "extend='both'\n",
    "\n",
    "fig, axs = plot.subplots(nrows=1, ncols=1, proj='cyl', axwidth=5)\n",
    "\n",
    "axs[0].contourf(\n",
    "    clim_model, colorbar='r', cmap=cmap, levels=levels, extend=extend, \n",
    "    colorbar_kw={'label': 'Near-surface air temperature [°C]'}, globe=True\n",
    ")\n",
    "\n",
    "year_start = str(model['time.year'].min().values.item(0))\n",
    "year_end = str(model['time.year'].max().values.item(0))\n",
    "\n",
    "axs.format(\n",
    "    labels=True, coast=True, borders=True,\n",
    "    suptitle=model_name+' near-surface air temperature climatology ('+year_start+'-'+year_end+')'\n",
    ")"
   ]
  },
  {
   "cell_type": "markdown",
   "metadata": {},
   "source": [
    "## Compare ERA5 to model\n",
    "See back `02_ERA5.ipynb`"
   ]
  },
  {
   "cell_type": "markdown",
   "metadata": {},
   "source": [
    "### Download ERA5"
   ]
  },
  {
   "cell_type": "markdown",
   "metadata": {},
   "source": [
    "1. Go to https://www.ecmwf.int/en/forecasts/datasets/reanalysis-datasets/era5\n",
    "2. Search `ERA5 monthly averaged data on single levels from 1979 to present`\n",
    "3. Download:\n",
    "    - Product type: Monthly averaged reanalysis\n",
    "    - Variable: 2m temperature\n",
    "    - Select all years (except 2021) / months / time\n",
    "    - Geographical area: Whole available region\n",
    "    - Format: NetCDF (experimental)\n",
    "4. Login/register to submit request (create an account if you don't have one)\n",
    "5. Go back down on the page and click on Submit Form\n",
    "6. Click on download, cancel, then right click on the download button and copy the link path, then paste it on the cell bellow besides the `wget` command\n",
    "\n",
    "Remark: It should be around 1Go"
   ]
  },
  {
   "cell_type": "code",
   "execution_count": null,
   "metadata": {},
   "outputs": [],
   "source": [
    "!wget https://download-0008.copernicus-climate.eu/cache-compute-0008/cache/data6/adaptor.mars.internal-1642500706.3691368-19649-5-5a435782-6700-4aa6-991b-f43bad55b9eb.nc"
   ]
  },
  {
   "cell_type": "markdown",
   "metadata": {},
   "source": [
    "7. Rename the downloaded file to `ERA5.nc`"
   ]
  },
  {
   "cell_type": "code",
   "execution_count": null,
   "metadata": {},
   "outputs": [],
   "source": [
    "ds = xr.open_dataset('ERA5.nc', chunks={\"longitude\": 360, \"latitude\": 360}) \\\n",
    "        .rename({'longitude': 'lon', 'latitude': 'lat'})\n",
    "obs = ds.t2m - 273.15"
   ]
  },
  {
   "cell_type": "markdown",
   "metadata": {},
   "source": [
    "## Select same time period\n",
    "Before making the comparison, be aware that the two data sets are not from the same time period.\n",
    "\n",
    "### Exercise\n",
    "Check the period of the model data and ERA5 to choose a common period"
   ]
  },
  {
   "cell_type": "code",
   "execution_count": null,
   "metadata": {},
   "outputs": [],
   "source": [
    "clim_obs = ###\n",
    "clim_model = ###"
   ]
  },
  {
   "cell_type": "markdown",
   "metadata": {},
   "source": [
    "### Solution"
   ]
  },
  {
   "cell_type": "code",
   "execution_count": null,
   "metadata": {
    "jupyter": {
     "source_hidden": true
    }
   },
   "outputs": [],
   "source": [
    "# - model: 1979-2014\n",
    "# - obs: 1850-2020\n",
    "\n",
    "period = slice('1979', '2014')\n",
    "\n",
    "# Test that both data sets are having the same size\n",
    "np.testing.assert_equal(\n",
    "    obs.sel(time=period).time.size,\n",
    "    model.sel(time=period).time.size\n",
    ")\n",
    "\n",
    "clim_obs = obs.sel(time=period).mean('time').load()\n",
    "clim_model = model.sel(time=period).mean('time').load()"
   ]
  },
  {
   "cell_type": "markdown",
   "metadata": {},
   "source": [
    "## Regrid ERA5 to the model grid\n",
    "We cannot directly compare ERA5 to the model because they are not on the same grid. For that we will have to make a regrid. Several options:\n",
    "- use command line tools like [CDO](https://code.mpimet.mpg.de/projects/cdo/)\n",
    "- use [xESMF](https://xesmf.readthedocs.io/en/latest/) which is an adaptation of a Fortran program in Python and takes into account the sphericity of the Earth (I recommend, but it only works on Linux and maybe Mac)\n",
    "- for non-Linux users, you can also directly use the [`.interp()`](https://xarray.pydata.org/en/stable/user-guide/interpolation.html#example) function of xarray, which does not take into account the sphericity of the Earth but does the job."
   ]
  },
  {
   "cell_type": "markdown",
   "metadata": {},
   "source": [
    "### For Linux users (xESMF)\n",
    "Check: [Regrid between rectilinear grids](https://xesmf.readthedocs.io/en/latest/notebooks/Rectilinear_grid.html)"
   ]
  },
  {
   "cell_type": "code",
   "execution_count": null,
   "metadata": {},
   "outputs": [],
   "source": [
    "# Create a regridder\n",
    "regridder = xe.Regridder(\n",
    "    clim_obs, clim_model, 'bilinear', periodic=True, reuse_weights=True\n",
    ")"
   ]
  },
  {
   "cell_type": "code",
   "execution_count": null,
   "metadata": {},
   "outputs": [],
   "source": [
    "# Make the regrid\n",
    "clim_obs_regrid = regridder(clim_obs)\n",
    "clim_obs_regrid"
   ]
  },
  {
   "cell_type": "markdown",
   "metadata": {},
   "source": [
    "### For non-Linux users (xarray)\n",
    "Check: https://xarray.pydata.org/en/stable/user-guide/interpolation.html#example"
   ]
  },
  {
   "cell_type": "code",
   "execution_count": null,
   "metadata": {},
   "outputs": [],
   "source": [
    "clim_obs_regrid = clim_obs.interp(lat=clim_model.lat, lon=clim_model.lon)\n",
    "clim_obs_regrid"
   ]
  },
  {
   "cell_type": "markdown",
   "metadata": {},
   "source": [
    "### Plot"
   ]
  },
  {
   "cell_type": "code",
   "execution_count": null,
   "metadata": {},
   "outputs": [],
   "source": [
    "cmap='RdBu_r'\n",
    "levels=plot.arange(-4,20,2)\n",
    "extend='both'\n",
    "norm='div'\n",
    "\n",
    "# Make a zoom on your country\n",
    "latmin=38 ; latmax=56 ; lonmin=-10 ; lonmax=15\n",
    "\n",
    "fig, axs = plot.subplots(nrows=1, ncols=3, proj='cyl', axwidth=3)\n",
    "  \n",
    "m = axs[0].pcolormesh(clim_model, cmap=cmap, levels=levels, extend=extend, norm=norm)\n",
    "axs[0].format(title=model_name) \n",
    "\n",
    "axs[1].pcolormesh(clim_obs, cmap=cmap, levels=levels, extend=extend, norm=norm)\n",
    "axs[1].format(title='ERA5') \n",
    "\n",
    "axs[2].pcolormesh(clim_obs_regrid, cmap=cmap, levels=levels, extend=extend, norm=norm)\n",
    "axs[2].format(title='ERA5 (regrid)')\n",
    "\n",
    "fig.colorbar(m, label='Near-surface air temperature [°C]')\n",
    "\n",
    "axs.format(\n",
    "    labels=True, coast=True, borders=True,\n",
    "    suptitle='Near-surface air temperature climatology ('+period.start+'-'+period.stop+')',\n",
    "    latlim=(latmin, latmax), lonlim=(lonmin, lonmax),\n",
    ")"
   ]
  },
  {
   "cell_type": "markdown",
   "metadata": {},
   "source": [
    "## Plot the global bias\n",
    "Or take a sub-zone if it's too heavy\n",
    "\n",
    "### Exercise\n",
    "Make a figure showing the annual climatological bias in surface temperature between the model and ERA5 (model - ERA5)."
   ]
  },
  {
   "cell_type": "code",
   "execution_count": null,
   "metadata": {},
   "outputs": [],
   "source": []
  },
  {
   "cell_type": "markdown",
   "metadata": {},
   "source": [
    "### Solution"
   ]
  },
  {
   "cell_type": "code",
   "execution_count": null,
   "metadata": {
    "jupyter": {
     "source_hidden": true
    }
   },
   "outputs": [],
   "source": [
    "cmap='RdBu_r'\n",
    "levels=plot.arange(-30,30,5)\n",
    "extend='both'\n",
    "\n",
    "fig, axs = plot.subplots(nrows=3, ncols=1, proj='cyl', axwidth=5)\n",
    "\n",
    "# Obs\n",
    "m1 = axs[0].contourf(\n",
    "    clim_obs_regrid, cmap=cmap, levels=levels, extend=extend, globe=True\n",
    ")\n",
    "axs[0].format(title='ERA5 (regrid)')\n",
    "\n",
    "# Model\n",
    "axs[1].contourf(\n",
    "    clim_model, cmap=cmap, levels=levels, extend=extend, globe=True\n",
    ")\n",
    "axs[1].format(title=model_name)\n",
    "\n",
    "# Bias (model - obs)\n",
    "m2 = axs[2].contourf(\n",
    "    clim_model-clim_obs_regrid, cmap=cmap, \n",
    "    levels=plot.arange(-5, 5, 1), extend=extend, globe=True\n",
    ")\n",
    "axs[2].format(title='Bias ('+model_name+' - ERA5)')\n",
    "\n",
    "fig.colorbar(m1, rows=(1, 2), label='Near-surface air temperature [°C]')\n",
    "fig.colorbar(m2, row=3, label='Bias [°C]')\n",
    "\n",
    "axs.format(\n",
    "    labels=True, coast=True, borders=True,\n",
    "    suptitle='Near-surface air temperature climatologies and bias ('+period.start+'-'+period.stop+')'\n",
    ")"
   ]
  },
  {
   "cell_type": "code",
   "execution_count": null,
   "metadata": {
    "jupyter": {
     "source_hidden": true
    }
   },
   "outputs": [],
   "source": [
    "cmap='RdBu_r'\n",
    "levels=plot.arange(-30,30,5)\n",
    "extend='both'\n",
    "\n",
    "fig, axs = plot.subplots(nrows=1, ncols=1, proj='cyl', axwidth=5)\n",
    "\n",
    "# Bias (model - obs)\n",
    "m = axs[0].contourf(\n",
    "    clim_model-clim_obs_regrid, cmap=cmap, \n",
    "    levels=plot.arange(-5, 5, 1), extend=extend, globe=True\n",
    ")\n",
    "\n",
    "fig.colorbar(m, label='Temperature bias [°C]')\n",
    "\n",
    "axs.format(\n",
    "    labels=True, coast=True, borders=True,\n",
    "    suptitle='Near-surface air temperature bias '+model_name+' - ERA5 ('+period.start+'-'+period.stop+')'\n",
    ")\n",
    "# fig.save('img/'+model_name+'_tas_bias_'+period.start+'-'+period.stop+'.jpg')"
   ]
  },
  {
   "cell_type": "markdown",
   "metadata": {},
   "source": [
    "## Plot global time series\n",
    "If too heavy take a sub-zone"
   ]
  },
  {
   "cell_type": "code",
   "execution_count": null,
   "metadata": {},
   "outputs": [],
   "source": [
    "# Resample by year\n",
    "obs_year = obs.resample(time='Y').mean('time').load()\n",
    "model_year = model.resample(time='Y').mean('time').load()"
   ]
  },
  {
   "cell_type": "code",
   "execution_count": null,
   "metadata": {},
   "outputs": [],
   "source": [
    "# Make spatial average\n",
    "ts_obs = (u.spatial_average(obs_year)).load()\n",
    "ts_model = (u.spatial_average(model_year)).load()"
   ]
  },
  {
   "cell_type": "code",
   "execution_count": null,
   "metadata": {},
   "outputs": [],
   "source": [
    "fig, axs = plot.subplots(axwidth=5, aspect=2)\n",
    "\n",
    "axs[0].plot(ts_obs['time.year'], ts_obs, label='ERA5')\n",
    "axs[0].plot(ts_model['time.year'], ts_model, label=model_name)\n",
    "\n",
    "    \n",
    "axs[0].legend()\n",
    "\n",
    "axs.format(\n",
    "    xlabel='year',\n",
    "    ylabel='Near-surface air temperature [°C]',\n",
    "    suptitle='Global near-surface air temperature',\n",
    ")"
   ]
  },
  {
   "cell_type": "markdown",
   "metadata": {},
   "source": [
    "## Add projections\n",
    "Take anomalies with respect to a common time period, e.g. 1995-2014, to get rid of the global bias.\n",
    "\n",
    "Check this for using IPCC Color Palettes: https://pyam-iamc.readthedocs.io/en/stable/tutorials/ipcc_colors.html (this package is not installed here)\n",
    "\n",
    "Get back the keys to load scenarios data sets!"
   ]
  },
  {
   "cell_type": "code",
   "execution_count": null,
   "metadata": {},
   "outputs": [],
   "source": [
    "[key for key in dset_dict.keys()]"
   ]
  },
  {
   "cell_type": "markdown",
   "metadata": {},
   "source": [
    "### Exercise\n",
    "Make a figure showing the near-surface air temperature anomalies over the historical period and the future period up to 2100 for all scenarios available for your model."
   ]
  },
  {
   "cell_type": "code",
   "execution_count": null,
   "metadata": {},
   "outputs": [],
   "source": []
  },
  {
   "cell_type": "markdown",
   "metadata": {},
   "source": [
    "### Solution"
   ]
  },
  {
   "cell_type": "code",
   "execution_count": null,
   "metadata": {
    "jupyter": {
     "source_hidden": true
    }
   },
   "outputs": [],
   "source": [
    "list_scenarios = ['ssp119', 'ssp126', 'ssp245', 'ssp370', 'ssp585']\n",
    "colors = ['#00a9cf', '#003466', '#f69320', '#df0000', '#980002']"
   ]
  },
  {
   "cell_type": "code",
   "execution_count": null,
   "metadata": {
    "jupyter": {
     "source_hidden": true
    }
   },
   "outputs": [],
   "source": [
    "temp = []\n",
    "for scenario in list_scenarios:\n",
    "    ds = dset_dict[\"ScenarioMIP.IPSL.IPSL-CM6A-LR.\"+scenario+\".Amon.gr\"]\n",
    "    da = ds.tas.isel(member_id=0) - 273.15\n",
    "    temp.append(u.spatial_average(da.resample(time='Y').mean('time')))\n",
    "\n",
    "# Concatenate results\n",
    "ts_model_future = xr.concat(temp, pd.Index(list_scenarios, name='scenario')).load()"
   ]
  },
  {
   "cell_type": "code",
   "execution_count": null,
   "metadata": {
    "jupyter": {
     "source_hidden": true
    }
   },
   "outputs": [],
   "source": [
    "ref_period = slice('1995', '2014')\n",
    "ref_obs = ts_obs.sel(time=ref_period).mean('time')\n",
    "ref_model = ts_model.sel(time=ref_period).mean('time')\n",
    "\n",
    "linewidth = 1\n",
    "\n",
    "fig, axs = plot.subplots(axwidth=5, aspect=2)\n",
    "\n",
    "# Past\n",
    "axs[0].plot(\n",
    "    ts_obs['time.year'], \n",
    "    ts_obs-ref_obs, \n",
    "    label='ERA5', color='k', linewidth=linewidth, linestyle='--'\n",
    ")\n",
    "axs[0].plot(\n",
    "    ts_model['time.year'], \n",
    "    ts_model-ref_model, \n",
    "    label='historical', color='k', linewidth=linewidth\n",
    ")\n",
    "\n",
    "# Future\n",
    "for i, scenario in enumerate(list_scenarios):\n",
    "    axs[0].plot(\n",
    "        ts_model_future['time.year'], \n",
    "        ts_model_future.sel(scenario=scenario) - ref_model, \n",
    "        label=scenario, color=colors[i], linewidth=linewidth\n",
    "    )\n",
    "    \n",
    "axs[0].legend(ncols=2)\n",
    "\n",
    "axs.format(\n",
    "    xlabel='year',\n",
    "    ylabel='Near-surface air temperature [°C]',\n",
    "    suptitle='Global near-surface air temperature anomalies '+model_name+'\\n(with respect to 1995-2014)',\n",
    "    xlim=(1979,2100)\n",
    ")\n",
    "# fig.save('img/'+model_name+'_ts_tas_anomalies_projections.jpg')"
   ]
  },
  {
   "cell_type": "markdown",
   "metadata": {},
   "source": [
    "## Share your results!\n",
    "Go to the following link and upload the figures for your the model you chose of the global (or sub-zone) bias and projections!\n",
    "\n",
    "https://app.mural.co/t/variabiliteclimatique4363/m/variabiliteclimatique4363/1639491102483/fecf896fc166a77732b34ff63bf09000883718e3?sender=ufcbfba826e94d93c633c7410\n",
    "\n",
    "## Bonus\n",
    "If you still have time, try adding models or members to add uncertainties (to add envelopes to the curves, you can look at the [`fill_between()`](https://matplotlib.org/stable/api/_as_gen/matplotlib.pyplot.fill_between.html) function of matplotlib or otherwise proplot implements it directly in a simplified way: https://proplot.readthedocs.io/en/v0.6.4/1dplots.html#Shading-and-error-bars). \n",
    "\n",
    "Feel free to do any other analysis you are interested in!"
   ]
  }
 ],
 "metadata": {
  "kernelspec": {
   "display_name": "Python [conda env:erca]",
   "language": "python",
   "name": "conda-env-erca-py"
  },
  "language_info": {
   "codemirror_mode": {
    "name": "ipython",
    "version": 3
   },
   "file_extension": ".py",
   "mimetype": "text/x-python",
   "name": "python",
   "nbconvert_exporter": "python",
   "pygments_lexer": "ipython3",
   "version": "3.8.5"
  }
 },
 "nbformat": 4,
 "nbformat_minor": 4
}
